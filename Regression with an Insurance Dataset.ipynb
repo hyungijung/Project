{
 "cells": [
  {
   "cell_type": "code",
   "id": "initial_id",
   "metadata": {
    "collapsed": true,
    "ExecuteTime": {
     "end_time": "2024-12-17T06:14:11.029069Z",
     "start_time": "2024-12-17T06:14:08.308815Z"
    }
   },
   "source": [
    "import pandas as pd\n",
    "import numpy as np\n",
    "import matplotlib.pyplot as plt\n",
    "\n",
    "pd.options.display.float_format = '{:.2f}'.format"
   ],
   "outputs": [],
   "execution_count": 1
  },
  {
   "metadata": {
    "ExecuteTime": {
     "end_time": "2024-12-17T06:14:21.015609Z",
     "start_time": "2024-12-17T06:14:11.031260Z"
    }
   },
   "cell_type": "code",
   "source": [
    "frame_comp = pd.read_csv(\"train.csv\")\n",
    "frame_origin = pd.read_csv(\"Insurance Premium Prediction Dataset.csv\")"
   ],
   "id": "1b303291672a427d",
   "outputs": [],
   "execution_count": 2
  },
  {
   "metadata": {},
   "cell_type": "markdown",
   "source": [
    "frame_comp = 대회 데이터\n",
    "\n",
    "frame_origin = 원본 데이터\n",
    "\n",
    "대회 데이터는 원본 데이터를 이용해서 생성된 데이터이다. 그래서 두 데이터를 병합하기 전에 두 데이터를 병합해도 문제 없는지 판단 후 병합 예정이다.\n",
    "\n",
    "종속 변수 : Premium Amount"
   ],
   "id": "26c03ae4aada7467"
  },
  {
   "metadata": {
    "ExecuteTime": {
     "end_time": "2024-12-17T06:14:21.093974Z",
     "start_time": "2024-12-17T06:14:21.018089Z"
    }
   },
   "cell_type": "code",
   "source": "frame_comp.head()",
   "id": "2cbea312ee7aa223",
   "outputs": [
    {
     "data": {
      "text/plain": [
       "   id   Age  Gender  Annual Income Marital Status  Number of Dependents  \\\n",
       "0   0 19.00  Female       10049.00        Married                  1.00   \n",
       "1   1 39.00  Female       31678.00       Divorced                  3.00   \n",
       "2   2 23.00    Male       25602.00       Divorced                  3.00   \n",
       "3   3 21.00    Male      141855.00        Married                  2.00   \n",
       "4   4 21.00    Male       39651.00         Single                  1.00   \n",
       "\n",
       "  Education Level     Occupation  Health Score  Location  ... Previous Claims  \\\n",
       "0      Bachelor's  Self-Employed         22.60     Urban  ...            2.00   \n",
       "1        Master's            NaN         15.57     Rural  ...            1.00   \n",
       "2     High School  Self-Employed         47.18  Suburban  ...            1.00   \n",
       "3      Bachelor's            NaN         10.94     Rural  ...            1.00   \n",
       "4      Bachelor's  Self-Employed         20.38     Rural  ...            0.00   \n",
       "\n",
       "   Vehicle Age  Credit Score  Insurance Duration           Policy Start Date  \\\n",
       "0        17.00        372.00                5.00  2023-12-23 15:21:39.134960   \n",
       "1        12.00        694.00                2.00  2023-06-12 15:21:39.111551   \n",
       "2        14.00           NaN                3.00  2023-09-30 15:21:39.221386   \n",
       "3         0.00        367.00                1.00  2024-06-12 15:21:39.226954   \n",
       "4         8.00        598.00                4.00  2021-12-01 15:21:39.252145   \n",
       "\n",
       "  Customer Feedback Smoking Status Exercise Frequency Property Type  \\\n",
       "0              Poor             No             Weekly         House   \n",
       "1           Average            Yes            Monthly         House   \n",
       "2              Good            Yes             Weekly         House   \n",
       "3              Poor            Yes              Daily     Apartment   \n",
       "4              Poor            Yes             Weekly         House   \n",
       "\n",
       "  Premium Amount  \n",
       "0        2869.00  \n",
       "1        1483.00  \n",
       "2         567.00  \n",
       "3         765.00  \n",
       "4        2022.00  \n",
       "\n",
       "[5 rows x 21 columns]"
      ],
      "text/html": [
       "<div>\n",
       "<style scoped>\n",
       "    .dataframe tbody tr th:only-of-type {\n",
       "        vertical-align: middle;\n",
       "    }\n",
       "\n",
       "    .dataframe tbody tr th {\n",
       "        vertical-align: top;\n",
       "    }\n",
       "\n",
       "    .dataframe thead th {\n",
       "        text-align: right;\n",
       "    }\n",
       "</style>\n",
       "<table border=\"1\" class=\"dataframe\">\n",
       "  <thead>\n",
       "    <tr style=\"text-align: right;\">\n",
       "      <th></th>\n",
       "      <th>id</th>\n",
       "      <th>Age</th>\n",
       "      <th>Gender</th>\n",
       "      <th>Annual Income</th>\n",
       "      <th>Marital Status</th>\n",
       "      <th>Number of Dependents</th>\n",
       "      <th>Education Level</th>\n",
       "      <th>Occupation</th>\n",
       "      <th>Health Score</th>\n",
       "      <th>Location</th>\n",
       "      <th>...</th>\n",
       "      <th>Previous Claims</th>\n",
       "      <th>Vehicle Age</th>\n",
       "      <th>Credit Score</th>\n",
       "      <th>Insurance Duration</th>\n",
       "      <th>Policy Start Date</th>\n",
       "      <th>Customer Feedback</th>\n",
       "      <th>Smoking Status</th>\n",
       "      <th>Exercise Frequency</th>\n",
       "      <th>Property Type</th>\n",
       "      <th>Premium Amount</th>\n",
       "    </tr>\n",
       "  </thead>\n",
       "  <tbody>\n",
       "    <tr>\n",
       "      <th>0</th>\n",
       "      <td>0</td>\n",
       "      <td>19.00</td>\n",
       "      <td>Female</td>\n",
       "      <td>10049.00</td>\n",
       "      <td>Married</td>\n",
       "      <td>1.00</td>\n",
       "      <td>Bachelor's</td>\n",
       "      <td>Self-Employed</td>\n",
       "      <td>22.60</td>\n",
       "      <td>Urban</td>\n",
       "      <td>...</td>\n",
       "      <td>2.00</td>\n",
       "      <td>17.00</td>\n",
       "      <td>372.00</td>\n",
       "      <td>5.00</td>\n",
       "      <td>2023-12-23 15:21:39.134960</td>\n",
       "      <td>Poor</td>\n",
       "      <td>No</td>\n",
       "      <td>Weekly</td>\n",
       "      <td>House</td>\n",
       "      <td>2869.00</td>\n",
       "    </tr>\n",
       "    <tr>\n",
       "      <th>1</th>\n",
       "      <td>1</td>\n",
       "      <td>39.00</td>\n",
       "      <td>Female</td>\n",
       "      <td>31678.00</td>\n",
       "      <td>Divorced</td>\n",
       "      <td>3.00</td>\n",
       "      <td>Master's</td>\n",
       "      <td>NaN</td>\n",
       "      <td>15.57</td>\n",
       "      <td>Rural</td>\n",
       "      <td>...</td>\n",
       "      <td>1.00</td>\n",
       "      <td>12.00</td>\n",
       "      <td>694.00</td>\n",
       "      <td>2.00</td>\n",
       "      <td>2023-06-12 15:21:39.111551</td>\n",
       "      <td>Average</td>\n",
       "      <td>Yes</td>\n",
       "      <td>Monthly</td>\n",
       "      <td>House</td>\n",
       "      <td>1483.00</td>\n",
       "    </tr>\n",
       "    <tr>\n",
       "      <th>2</th>\n",
       "      <td>2</td>\n",
       "      <td>23.00</td>\n",
       "      <td>Male</td>\n",
       "      <td>25602.00</td>\n",
       "      <td>Divorced</td>\n",
       "      <td>3.00</td>\n",
       "      <td>High School</td>\n",
       "      <td>Self-Employed</td>\n",
       "      <td>47.18</td>\n",
       "      <td>Suburban</td>\n",
       "      <td>...</td>\n",
       "      <td>1.00</td>\n",
       "      <td>14.00</td>\n",
       "      <td>NaN</td>\n",
       "      <td>3.00</td>\n",
       "      <td>2023-09-30 15:21:39.221386</td>\n",
       "      <td>Good</td>\n",
       "      <td>Yes</td>\n",
       "      <td>Weekly</td>\n",
       "      <td>House</td>\n",
       "      <td>567.00</td>\n",
       "    </tr>\n",
       "    <tr>\n",
       "      <th>3</th>\n",
       "      <td>3</td>\n",
       "      <td>21.00</td>\n",
       "      <td>Male</td>\n",
       "      <td>141855.00</td>\n",
       "      <td>Married</td>\n",
       "      <td>2.00</td>\n",
       "      <td>Bachelor's</td>\n",
       "      <td>NaN</td>\n",
       "      <td>10.94</td>\n",
       "      <td>Rural</td>\n",
       "      <td>...</td>\n",
       "      <td>1.00</td>\n",
       "      <td>0.00</td>\n",
       "      <td>367.00</td>\n",
       "      <td>1.00</td>\n",
       "      <td>2024-06-12 15:21:39.226954</td>\n",
       "      <td>Poor</td>\n",
       "      <td>Yes</td>\n",
       "      <td>Daily</td>\n",
       "      <td>Apartment</td>\n",
       "      <td>765.00</td>\n",
       "    </tr>\n",
       "    <tr>\n",
       "      <th>4</th>\n",
       "      <td>4</td>\n",
       "      <td>21.00</td>\n",
       "      <td>Male</td>\n",
       "      <td>39651.00</td>\n",
       "      <td>Single</td>\n",
       "      <td>1.00</td>\n",
       "      <td>Bachelor's</td>\n",
       "      <td>Self-Employed</td>\n",
       "      <td>20.38</td>\n",
       "      <td>Rural</td>\n",
       "      <td>...</td>\n",
       "      <td>0.00</td>\n",
       "      <td>8.00</td>\n",
       "      <td>598.00</td>\n",
       "      <td>4.00</td>\n",
       "      <td>2021-12-01 15:21:39.252145</td>\n",
       "      <td>Poor</td>\n",
       "      <td>Yes</td>\n",
       "      <td>Weekly</td>\n",
       "      <td>House</td>\n",
       "      <td>2022.00</td>\n",
       "    </tr>\n",
       "  </tbody>\n",
       "</table>\n",
       "<p>5 rows × 21 columns</p>\n",
       "</div>"
      ]
     },
     "execution_count": 3,
     "metadata": {},
     "output_type": "execute_result"
    }
   ],
   "execution_count": 3
  },
  {
   "metadata": {
    "ExecuteTime": {
     "end_time": "2024-12-17T06:14:21.147624Z",
     "start_time": "2024-12-17T06:14:21.096985Z"
    }
   },
   "cell_type": "code",
   "source": "frame_origin.head()",
   "id": "f9953134b7b81034",
   "outputs": [
    {
     "data": {
      "text/plain": [
       "    Age  Gender  Annual Income Marital Status  Number of Dependents  \\\n",
       "0 56.00    Male       99990.00        Married                  1.00   \n",
       "1 46.00    Male        2867.00         Single                  1.00   \n",
       "2 32.00  Female       30154.00       Divorced                  3.00   \n",
       "3 60.00  Female       48371.00       Divorced                  0.00   \n",
       "4 25.00  Female       54174.00       Divorced                  0.00   \n",
       "\n",
       "  Education Level     Occupation  Health Score  Location    Policy Type  \\\n",
       "0        Master's            NaN         31.07     Urban  Comprehensive   \n",
       "1      Bachelor's            NaN         50.27     Urban  Comprehensive   \n",
       "2      Bachelor's            NaN         14.71  Suburban  Comprehensive   \n",
       "3             PhD  Self-Employed         25.35     Rural  Comprehensive   \n",
       "4     High School  Self-Employed          6.66     Urban  Comprehensive   \n",
       "\n",
       "   Previous Claims  Vehicle Age  Credit Score  Insurance Duration  \\\n",
       "0              NaN           13        320.00                   5   \n",
       "1              NaN            3        694.00                   4   \n",
       "2             2.00           16        652.00                   8   \n",
       "3             1.00           11        330.00                   7   \n",
       "4              NaN            9           NaN                   8   \n",
       "\n",
       "   Premium Amount           Policy Start Date Customer Feedback  \\\n",
       "0          308.00  2022-12-10 15:21:39.078837              Poor   \n",
       "1          517.00  2023-01-31 15:21:39.078837              Good   \n",
       "2          849.00  2023-11-26 15:21:39.078837              Poor   \n",
       "3          927.00  2023-02-27 15:21:39.078837              Poor   \n",
       "4          303.00  2020-11-25 15:21:39.078837              Poor   \n",
       "\n",
       "  Smoking Status Exercise Frequency Property Type  \n",
       "0            Yes              Daily         Condo  \n",
       "1            Yes            Monthly         House  \n",
       "2             No            Monthly         House  \n",
       "3             No             Rarely         Condo  \n",
       "4             No             Rarely         Condo  "
      ],
      "text/html": [
       "<div>\n",
       "<style scoped>\n",
       "    .dataframe tbody tr th:only-of-type {\n",
       "        vertical-align: middle;\n",
       "    }\n",
       "\n",
       "    .dataframe tbody tr th {\n",
       "        vertical-align: top;\n",
       "    }\n",
       "\n",
       "    .dataframe thead th {\n",
       "        text-align: right;\n",
       "    }\n",
       "</style>\n",
       "<table border=\"1\" class=\"dataframe\">\n",
       "  <thead>\n",
       "    <tr style=\"text-align: right;\">\n",
       "      <th></th>\n",
       "      <th>Age</th>\n",
       "      <th>Gender</th>\n",
       "      <th>Annual Income</th>\n",
       "      <th>Marital Status</th>\n",
       "      <th>Number of Dependents</th>\n",
       "      <th>Education Level</th>\n",
       "      <th>Occupation</th>\n",
       "      <th>Health Score</th>\n",
       "      <th>Location</th>\n",
       "      <th>Policy Type</th>\n",
       "      <th>Previous Claims</th>\n",
       "      <th>Vehicle Age</th>\n",
       "      <th>Credit Score</th>\n",
       "      <th>Insurance Duration</th>\n",
       "      <th>Premium Amount</th>\n",
       "      <th>Policy Start Date</th>\n",
       "      <th>Customer Feedback</th>\n",
       "      <th>Smoking Status</th>\n",
       "      <th>Exercise Frequency</th>\n",
       "      <th>Property Type</th>\n",
       "    </tr>\n",
       "  </thead>\n",
       "  <tbody>\n",
       "    <tr>\n",
       "      <th>0</th>\n",
       "      <td>56.00</td>\n",
       "      <td>Male</td>\n",
       "      <td>99990.00</td>\n",
       "      <td>Married</td>\n",
       "      <td>1.00</td>\n",
       "      <td>Master's</td>\n",
       "      <td>NaN</td>\n",
       "      <td>31.07</td>\n",
       "      <td>Urban</td>\n",
       "      <td>Comprehensive</td>\n",
       "      <td>NaN</td>\n",
       "      <td>13</td>\n",
       "      <td>320.00</td>\n",
       "      <td>5</td>\n",
       "      <td>308.00</td>\n",
       "      <td>2022-12-10 15:21:39.078837</td>\n",
       "      <td>Poor</td>\n",
       "      <td>Yes</td>\n",
       "      <td>Daily</td>\n",
       "      <td>Condo</td>\n",
       "    </tr>\n",
       "    <tr>\n",
       "      <th>1</th>\n",
       "      <td>46.00</td>\n",
       "      <td>Male</td>\n",
       "      <td>2867.00</td>\n",
       "      <td>Single</td>\n",
       "      <td>1.00</td>\n",
       "      <td>Bachelor's</td>\n",
       "      <td>NaN</td>\n",
       "      <td>50.27</td>\n",
       "      <td>Urban</td>\n",
       "      <td>Comprehensive</td>\n",
       "      <td>NaN</td>\n",
       "      <td>3</td>\n",
       "      <td>694.00</td>\n",
       "      <td>4</td>\n",
       "      <td>517.00</td>\n",
       "      <td>2023-01-31 15:21:39.078837</td>\n",
       "      <td>Good</td>\n",
       "      <td>Yes</td>\n",
       "      <td>Monthly</td>\n",
       "      <td>House</td>\n",
       "    </tr>\n",
       "    <tr>\n",
       "      <th>2</th>\n",
       "      <td>32.00</td>\n",
       "      <td>Female</td>\n",
       "      <td>30154.00</td>\n",
       "      <td>Divorced</td>\n",
       "      <td>3.00</td>\n",
       "      <td>Bachelor's</td>\n",
       "      <td>NaN</td>\n",
       "      <td>14.71</td>\n",
       "      <td>Suburban</td>\n",
       "      <td>Comprehensive</td>\n",
       "      <td>2.00</td>\n",
       "      <td>16</td>\n",
       "      <td>652.00</td>\n",
       "      <td>8</td>\n",
       "      <td>849.00</td>\n",
       "      <td>2023-11-26 15:21:39.078837</td>\n",
       "      <td>Poor</td>\n",
       "      <td>No</td>\n",
       "      <td>Monthly</td>\n",
       "      <td>House</td>\n",
       "    </tr>\n",
       "    <tr>\n",
       "      <th>3</th>\n",
       "      <td>60.00</td>\n",
       "      <td>Female</td>\n",
       "      <td>48371.00</td>\n",
       "      <td>Divorced</td>\n",
       "      <td>0.00</td>\n",
       "      <td>PhD</td>\n",
       "      <td>Self-Employed</td>\n",
       "      <td>25.35</td>\n",
       "      <td>Rural</td>\n",
       "      <td>Comprehensive</td>\n",
       "      <td>1.00</td>\n",
       "      <td>11</td>\n",
       "      <td>330.00</td>\n",
       "      <td>7</td>\n",
       "      <td>927.00</td>\n",
       "      <td>2023-02-27 15:21:39.078837</td>\n",
       "      <td>Poor</td>\n",
       "      <td>No</td>\n",
       "      <td>Rarely</td>\n",
       "      <td>Condo</td>\n",
       "    </tr>\n",
       "    <tr>\n",
       "      <th>4</th>\n",
       "      <td>25.00</td>\n",
       "      <td>Female</td>\n",
       "      <td>54174.00</td>\n",
       "      <td>Divorced</td>\n",
       "      <td>0.00</td>\n",
       "      <td>High School</td>\n",
       "      <td>Self-Employed</td>\n",
       "      <td>6.66</td>\n",
       "      <td>Urban</td>\n",
       "      <td>Comprehensive</td>\n",
       "      <td>NaN</td>\n",
       "      <td>9</td>\n",
       "      <td>NaN</td>\n",
       "      <td>8</td>\n",
       "      <td>303.00</td>\n",
       "      <td>2020-11-25 15:21:39.078837</td>\n",
       "      <td>Poor</td>\n",
       "      <td>No</td>\n",
       "      <td>Rarely</td>\n",
       "      <td>Condo</td>\n",
       "    </tr>\n",
       "  </tbody>\n",
       "</table>\n",
       "</div>"
      ]
     },
     "execution_count": 4,
     "metadata": {},
     "output_type": "execute_result"
    }
   ],
   "execution_count": 4
  },
  {
   "metadata": {},
   "cell_type": "markdown",
   "source": "",
   "id": "985348bc0b0a2572"
  },
  {
   "metadata": {},
   "cell_type": "markdown",
   "source": "두 데이터 프레임의 알파벳 순서로 내림차순 정렬",
   "id": "49907d1573082e86"
  },
  {
   "metadata": {
    "ExecuteTime": {
     "end_time": "2024-12-17T06:14:21.513066Z",
     "start_time": "2024-12-17T06:14:21.154352Z"
    }
   },
   "cell_type": "code",
   "source": [
    "frame_comp = frame_comp[sorted(frame_comp.columns)]\n",
    "frame_origin = frame_origin[sorted(frame_origin.columns)]"
   ],
   "id": "eb749dfc794b2a38",
   "outputs": [],
   "execution_count": 5
  },
  {
   "metadata": {},
   "cell_type": "markdown",
   "source": "",
   "id": "af38a0055c84691d"
  },
  {
   "metadata": {},
   "cell_type": "markdown",
   "source": "열 이름 동일한지 확인",
   "id": "70c4c31f0fa1f166"
  },
  {
   "metadata": {
    "ExecuteTime": {
     "end_time": "2024-12-17T06:14:21.532591Z",
     "start_time": "2024-12-17T06:14:21.516576Z"
    }
   },
   "cell_type": "code",
   "source": "print(set(frame_comp.columns) == set(frame_origin.columns))",
   "id": "a7ac97cabb0a65ce",
   "outputs": [
    {
     "name": "stdout",
     "output_type": "stream",
     "text": [
      "False\n"
     ]
    }
   ],
   "execution_count": 6
  },
  {
   "metadata": {
    "ExecuteTime": {
     "end_time": "2024-12-17T06:14:21.549622Z",
     "start_time": "2024-12-17T06:14:21.535919Z"
    }
   },
   "cell_type": "code",
   "source": [
    "print(set(frame_origin.columns) - set(frame_comp.columns))\n",
    "print(set(frame_comp.columns) - set(frame_origin.columns))"
   ],
   "id": "ac0b6215f4be2354",
   "outputs": [
    {
     "name": "stdout",
     "output_type": "stream",
     "text": [
      "set()\n",
      "{'id'}\n"
     ]
    }
   ],
   "execution_count": 7
  },
  {
   "metadata": {},
   "cell_type": "markdown",
   "source": [
    "frame_comp에는 id열이 존재하나 frame_origin에는 id 열이 존재하지 않는다.\n",
    "\n",
    "id 열을 제외한 다른 열의 이름은 모두 동일하다."
   ],
   "id": "177a49572af39d88"
  },
  {
   "metadata": {},
   "cell_type": "markdown",
   "source": "id 열 제거",
   "id": "5d6d5bc5e1cf56c5"
  },
  {
   "metadata": {
    "ExecuteTime": {
     "end_time": "2024-12-17T06:14:22.014521Z",
     "start_time": "2024-12-17T06:14:21.551368Z"
    }
   },
   "cell_type": "code",
   "source": [
    "frame_comp.drop(columns=\"id\", inplace=True)\n",
    "print(set(frame_comp.columns) == set(frame_origin.columns))"
   ],
   "id": "8a224eb5ec19b673",
   "outputs": [
    {
     "name": "stdout",
     "output_type": "stream",
     "text": [
      "True\n"
     ]
    }
   ],
   "execution_count": 8
  },
  {
   "metadata": {},
   "cell_type": "markdown",
   "source": [
    "id 열을 제거 판단 근거\n",
    "1. 병합할 때 id 열이 없는 부분은 결측치가 된다.\n",
    "2. 회원 id가 보험료를 회귀 예측 하는데 유의미하지 않을 것이라 판단했다."
   ],
   "id": "b6610c38d6655c10"
  },
  {
   "metadata": {},
   "cell_type": "markdown",
   "source": "결측치 존재 확인",
   "id": "1e67638d777dc7f"
  },
  {
   "metadata": {
    "ExecuteTime": {
     "end_time": "2024-12-17T06:14:23.647537Z",
     "start_time": "2024-12-17T06:14:22.014521Z"
    }
   },
   "cell_type": "code",
   "source": "frame_comp.isnull().sum()",
   "id": "23e1a2c9195afdd2",
   "outputs": [
    {
     "data": {
      "text/plain": [
       "Age                      18705\n",
       "Annual Income            44949\n",
       "Credit Score            137882\n",
       "Customer Feedback        77824\n",
       "Education Level              0\n",
       "Exercise Frequency           0\n",
       "Gender                       0\n",
       "Health Score             74076\n",
       "Insurance Duration           1\n",
       "Location                     0\n",
       "Marital Status           18529\n",
       "Number of Dependents    109672\n",
       "Occupation              358075\n",
       "Policy Start Date            0\n",
       "Policy Type                  0\n",
       "Premium Amount               0\n",
       "Previous Claims         364029\n",
       "Property Type                0\n",
       "Smoking Status               0\n",
       "Vehicle Age                  6\n",
       "dtype: int64"
      ]
     },
     "execution_count": 9,
     "metadata": {},
     "output_type": "execute_result"
    }
   ],
   "execution_count": 9
  },
  {
   "metadata": {
    "ExecuteTime": {
     "end_time": "2024-12-17T06:14:24.010487Z",
     "start_time": "2024-12-17T06:14:23.658060Z"
    }
   },
   "cell_type": "code",
   "source": "frame_origin.isnull().sum()",
   "id": "6e64e49ac466e056",
   "outputs": [
    {
     "data": {
      "text/plain": [
       "Age                      4685\n",
       "Annual Income           13955\n",
       "Credit Score            27886\n",
       "Customer Feedback       18349\n",
       "Education Level             0\n",
       "Exercise Frequency          0\n",
       "Gender                      0\n",
       "Health Score            10597\n",
       "Insurance Duration          0\n",
       "Location                    0\n",
       "Marital Status           5019\n",
       "Number of Dependents    27886\n",
       "Occupation              81288\n",
       "Policy Start Date           0\n",
       "Policy Type                 0\n",
       "Premium Amount           1841\n",
       "Previous Claims         81288\n",
       "Property Type               0\n",
       "Smoking Status              0\n",
       "Vehicle Age                 0\n",
       "dtype: int64"
      ]
     },
     "execution_count": 10,
     "metadata": {},
     "output_type": "execute_result"
    }
   ],
   "execution_count": 10
  },
  {
   "metadata": {},
   "cell_type": "markdown",
   "source": "두 데이터 프레임 모두 여러 열에서 결측치가 존재한다.",
   "id": "f56a3996baa5159b"
  },
  {
   "metadata": {},
   "cell_type": "markdown",
   "source": "두 데이터 프레임의 데이터 타입이 모두 동일한지 확인",
   "id": "4484eac112f2ab48"
  },
  {
   "metadata": {
    "ExecuteTime": {
     "end_time": "2024-12-17T06:14:24.446815Z",
     "start_time": "2024-12-17T06:14:24.013961Z"
    }
   },
   "cell_type": "code",
   "source": "print(frame_comp[frame_comp.columns].dtypes == frame_origin[frame_origin.columns].dtypes)",
   "id": "b2ed80d0e80fb059",
   "outputs": [
    {
     "name": "stdout",
     "output_type": "stream",
     "text": [
      "Age                      True\n",
      "Annual Income            True\n",
      "Credit Score             True\n",
      "Customer Feedback        True\n",
      "Education Level          True\n",
      "Exercise Frequency       True\n",
      "Gender                   True\n",
      "Health Score             True\n",
      "Insurance Duration      False\n",
      "Location                 True\n",
      "Marital Status           True\n",
      "Number of Dependents     True\n",
      "Occupation               True\n",
      "Policy Start Date        True\n",
      "Policy Type              True\n",
      "Premium Amount           True\n",
      "Previous Claims          True\n",
      "Property Type            True\n",
      "Smoking Status           True\n",
      "Vehicle Age             False\n",
      "dtype: bool\n"
     ]
    }
   ],
   "execution_count": 11
  },
  {
   "metadata": {
    "ExecuteTime": {
     "end_time": "2024-12-17T06:14:24.473117Z",
     "start_time": "2024-12-17T06:14:24.454639Z"
    }
   },
   "cell_type": "code",
   "source": [
    "print(\"Insurance Duration\")\n",
    "print(\"frame_comp['Insurance Duration'] : \" + str(frame_comp[\"Insurance Duration\"].dtypes))\n",
    "print(\"frame_origin['Insurance Duration'] : \" + str(frame_origin[\"Insurance Duration\"].dtypes) + \"\\n\")\n",
    "\n",
    "print(\"Vehicle Age\")\n",
    "print(\"frame_comp['Vehicle Age'] : \" + str(frame_comp[\"Vehicle Age\"].dtypes))\n",
    "print(\"frame_origin['Vehicle Age'] : \" + str(frame_origin[\"Vehicle Age\"].dtypes))"
   ],
   "id": "d166a8f1cf7ac006",
   "outputs": [
    {
     "name": "stdout",
     "output_type": "stream",
     "text": [
      "Insurance Duration\n",
      "frame_comp['Insurance Duration'] : float64\n",
      "frame_origin['Insurance Duration'] : int64\n",
      "\n",
      "Vehicle Age\n",
      "frame_comp['Vehicle Age'] : float64\n",
      "frame_origin['Vehicle Age'] : int64\n"
     ]
    }
   ],
   "execution_count": 12
  },
  {
   "metadata": {},
   "cell_type": "markdown",
   "source": [
    "Vehicle Age와 Insurance Duration의 데이터 타입이 다르다. 두 열의 데이터 타입을 살펴보니 두 열 모두 int64와 float64의 차이였다.\n",
    "\n",
    "Vehicle Age와 Insurance Duration 두 열 모두 년수를 의미하는 열이다. 그래서 두 열의 의미를 고려했을 때 데이터 타입의 차이는 유의미하지 않다고 판단했다. 그래서 결측치, 데이터 범위, 정규화를 고려해서 데이터 타입 변환은 float64가 적합하다고 판단했다."
   ],
   "id": "26b964351f6ed581"
  },
  {
   "metadata": {},
   "cell_type": "markdown",
   "source": "데이터 타입 형 변환",
   "id": "7a494db668cb38d5"
  },
  {
   "metadata": {
    "ExecuteTime": {
     "end_time": "2024-12-17T06:14:25.005750Z",
     "start_time": "2024-12-17T06:14:24.476937Z"
    }
   },
   "cell_type": "code",
   "source": [
    "frame_comp['Insurance Duration'] = frame_comp['Insurance Duration'].astype('float64')\n",
    "frame_origin['Insurance Duration'] = frame_origin['Insurance Duration'].astype('float64')\n",
    "\n",
    "frame_comp['Vehicle Age'] = frame_comp['Vehicle Age'].astype('float64')\n",
    "frame_origin['Vehicle Age'] = frame_origin['Vehicle Age'].astype('float64')\n",
    "\n",
    "print(\"Insurance Duration\")\n",
    "print(\"frame_comp['Insurance Duration'] : \" + str(frame_comp[\"Insurance Duration\"].dtypes))\n",
    "print(\"frame_origin['Insurance Duration'] : \" + str(frame_origin[\"Insurance Duration\"].dtypes) + \"\\n\")\n",
    "\n",
    "print(\"Vehicle Age\")\n",
    "print(\"frame_comp['Vehicle Age'] : \" + str(frame_comp[\"Vehicle Age\"].dtypes))\n",
    "print(\"frame_origin['Vehicle Age'] : \" + str(frame_origin[\"Vehicle Age\"].dtypes))\n",
    "print(frame_comp[frame_comp.columns].dtypes == frame_origin[frame_origin.columns].dtypes)"
   ],
   "id": "b57d80ae2b46d6a5",
   "outputs": [
    {
     "name": "stdout",
     "output_type": "stream",
     "text": [
      "Insurance Duration\n",
      "frame_comp['Insurance Duration'] : float64\n",
      "frame_origin['Insurance Duration'] : float64\n",
      "\n",
      "Vehicle Age\n",
      "frame_comp['Vehicle Age'] : float64\n",
      "frame_origin['Vehicle Age'] : float64\n",
      "Age                     True\n",
      "Annual Income           True\n",
      "Credit Score            True\n",
      "Customer Feedback       True\n",
      "Education Level         True\n",
      "Exercise Frequency      True\n",
      "Gender                  True\n",
      "Health Score            True\n",
      "Insurance Duration      True\n",
      "Location                True\n",
      "Marital Status          True\n",
      "Number of Dependents    True\n",
      "Occupation              True\n",
      "Policy Start Date       True\n",
      "Policy Type             True\n",
      "Premium Amount          True\n",
      "Previous Claims         True\n",
      "Property Type           True\n",
      "Smoking Status          True\n",
      "Vehicle Age             True\n",
      "dtype: bool\n"
     ]
    }
   ],
   "execution_count": 13
  },
  {
   "metadata": {},
   "cell_type": "markdown",
   "source": "Vehicle Age와 Insurance Duration 두 열 모두 데이터 타입 float64로 변환했다.",
   "id": "ae4c5cd2a875b3f7"
  },
  {
   "metadata": {},
   "cell_type": "markdown",
   "source": "통계값 차이 확인",
   "id": "e7165d235dd08547"
  },
  {
   "metadata": {
    "ExecuteTime": {
     "end_time": "2024-12-17T06:14:26.493467Z",
     "start_time": "2024-12-17T06:14:25.005750Z"
    }
   },
   "cell_type": "code",
   "source": [
    "diff = frame_origin.describe() - frame_comp.describe()\n",
    "diff"
   ],
   "id": "ac9d8fd99dd42b4b",
   "outputs": [
    {
     "data": {
      "text/plain": [
       "             Age  Annual Income  Credit Score  Health Score  \\\n",
       "count -907120.00     -890146.00    -811144.00    -857661.00   \n",
       "mean       -0.12        9343.87        -18.56          2.97   \n",
       "std         0.01        3265.01          8.81          3.76   \n",
       "min         0.00          -1.00          0.00         -1.98   \n",
       "25%        -1.00        5587.00        -31.00          0.23   \n",
       "50%         0.00        8280.00        -20.00          1.87   \n",
       "75%         0.00       17530.00         -9.00          4.44   \n",
       "max         0.00           0.00          0.00         34.90   \n",
       "\n",
       "       Insurance Duration  Number of Dependents  Premium Amount  \\\n",
       "count          -921139.00            -839354.00      -922981.00   \n",
       "mean                -0.01                 -0.01         -136.43   \n",
       "std                 -0.01                 -0.01           44.41   \n",
       "min                  0.00                  0.00          -20.00   \n",
       "25%                  0.00                  0.00         -228.00   \n",
       "50%                  0.00                  0.00         -184.00   \n",
       "75%                  0.00                  0.00         -142.00   \n",
       "max                  0.00                  0.00            0.00   \n",
       "\n",
       "       Previous Claims  Vehicle Age  \n",
       "count       -638399.00   -921134.00  \n",
       "mean             -0.00        -0.05  \n",
       "std               0.02        -0.01  \n",
       "min               0.00         0.00  \n",
       "25%               0.00         0.00  \n",
       "50%               0.00         0.00  \n",
       "75%               0.00         0.00  \n",
       "max               0.00         0.00  "
      ],
      "text/html": [
       "<div>\n",
       "<style scoped>\n",
       "    .dataframe tbody tr th:only-of-type {\n",
       "        vertical-align: middle;\n",
       "    }\n",
       "\n",
       "    .dataframe tbody tr th {\n",
       "        vertical-align: top;\n",
       "    }\n",
       "\n",
       "    .dataframe thead th {\n",
       "        text-align: right;\n",
       "    }\n",
       "</style>\n",
       "<table border=\"1\" class=\"dataframe\">\n",
       "  <thead>\n",
       "    <tr style=\"text-align: right;\">\n",
       "      <th></th>\n",
       "      <th>Age</th>\n",
       "      <th>Annual Income</th>\n",
       "      <th>Credit Score</th>\n",
       "      <th>Health Score</th>\n",
       "      <th>Insurance Duration</th>\n",
       "      <th>Number of Dependents</th>\n",
       "      <th>Premium Amount</th>\n",
       "      <th>Previous Claims</th>\n",
       "      <th>Vehicle Age</th>\n",
       "    </tr>\n",
       "  </thead>\n",
       "  <tbody>\n",
       "    <tr>\n",
       "      <th>count</th>\n",
       "      <td>-907120.00</td>\n",
       "      <td>-890146.00</td>\n",
       "      <td>-811144.00</td>\n",
       "      <td>-857661.00</td>\n",
       "      <td>-921139.00</td>\n",
       "      <td>-839354.00</td>\n",
       "      <td>-922981.00</td>\n",
       "      <td>-638399.00</td>\n",
       "      <td>-921134.00</td>\n",
       "    </tr>\n",
       "    <tr>\n",
       "      <th>mean</th>\n",
       "      <td>-0.12</td>\n",
       "      <td>9343.87</td>\n",
       "      <td>-18.56</td>\n",
       "      <td>2.97</td>\n",
       "      <td>-0.01</td>\n",
       "      <td>-0.01</td>\n",
       "      <td>-136.43</td>\n",
       "      <td>-0.00</td>\n",
       "      <td>-0.05</td>\n",
       "    </tr>\n",
       "    <tr>\n",
       "      <th>std</th>\n",
       "      <td>0.01</td>\n",
       "      <td>3265.01</td>\n",
       "      <td>8.81</td>\n",
       "      <td>3.76</td>\n",
       "      <td>-0.01</td>\n",
       "      <td>-0.01</td>\n",
       "      <td>44.41</td>\n",
       "      <td>0.02</td>\n",
       "      <td>-0.01</td>\n",
       "    </tr>\n",
       "    <tr>\n",
       "      <th>min</th>\n",
       "      <td>0.00</td>\n",
       "      <td>-1.00</td>\n",
       "      <td>0.00</td>\n",
       "      <td>-1.98</td>\n",
       "      <td>0.00</td>\n",
       "      <td>0.00</td>\n",
       "      <td>-20.00</td>\n",
       "      <td>0.00</td>\n",
       "      <td>0.00</td>\n",
       "    </tr>\n",
       "    <tr>\n",
       "      <th>25%</th>\n",
       "      <td>-1.00</td>\n",
       "      <td>5587.00</td>\n",
       "      <td>-31.00</td>\n",
       "      <td>0.23</td>\n",
       "      <td>0.00</td>\n",
       "      <td>0.00</td>\n",
       "      <td>-228.00</td>\n",
       "      <td>0.00</td>\n",
       "      <td>0.00</td>\n",
       "    </tr>\n",
       "    <tr>\n",
       "      <th>50%</th>\n",
       "      <td>0.00</td>\n",
       "      <td>8280.00</td>\n",
       "      <td>-20.00</td>\n",
       "      <td>1.87</td>\n",
       "      <td>0.00</td>\n",
       "      <td>0.00</td>\n",
       "      <td>-184.00</td>\n",
       "      <td>0.00</td>\n",
       "      <td>0.00</td>\n",
       "    </tr>\n",
       "    <tr>\n",
       "      <th>75%</th>\n",
       "      <td>0.00</td>\n",
       "      <td>17530.00</td>\n",
       "      <td>-9.00</td>\n",
       "      <td>4.44</td>\n",
       "      <td>0.00</td>\n",
       "      <td>0.00</td>\n",
       "      <td>-142.00</td>\n",
       "      <td>0.00</td>\n",
       "      <td>0.00</td>\n",
       "    </tr>\n",
       "    <tr>\n",
       "      <th>max</th>\n",
       "      <td>0.00</td>\n",
       "      <td>0.00</td>\n",
       "      <td>0.00</td>\n",
       "      <td>34.90</td>\n",
       "      <td>0.00</td>\n",
       "      <td>0.00</td>\n",
       "      <td>0.00</td>\n",
       "      <td>0.00</td>\n",
       "      <td>0.00</td>\n",
       "    </tr>\n",
       "  </tbody>\n",
       "</table>\n",
       "</div>"
      ]
     },
     "execution_count": 14,
     "metadata": {},
     "output_type": "execute_result"
    }
   ],
   "execution_count": 14
  },
  {
   "metadata": {},
   "cell_type": "markdown",
   "source": "두 데이터 프레임의 통계값의 차이가 유의미하지 않다고 판단했다.",
   "id": "44d3d04c730fd842"
  },
  {
   "metadata": {},
   "cell_type": "markdown",
   "source": "중복값 확인",
   "id": "cf747584f786c145"
  },
  {
   "metadata": {
    "ExecuteTime": {
     "end_time": "2024-12-17T06:14:33.560711Z",
     "start_time": "2024-12-17T06:14:26.506631Z"
    }
   },
   "cell_type": "code",
   "source": [
    "common_rows = pd.merge(frame_comp, frame_origin)\n",
    "common_rows"
   ],
   "id": "c737d5d7bc593fa5",
   "outputs": [
    {
     "data": {
      "text/plain": [
       "Empty DataFrame\n",
       "Columns: [Age, Annual Income, Credit Score, Customer Feedback, Education Level, Exercise Frequency, Gender, Health Score, Insurance Duration, Location, Marital Status, Number of Dependents, Occupation, Policy Start Date, Policy Type, Premium Amount, Previous Claims, Property Type, Smoking Status, Vehicle Age]\n",
       "Index: []"
      ],
      "text/html": [
       "<div>\n",
       "<style scoped>\n",
       "    .dataframe tbody tr th:only-of-type {\n",
       "        vertical-align: middle;\n",
       "    }\n",
       "\n",
       "    .dataframe tbody tr th {\n",
       "        vertical-align: top;\n",
       "    }\n",
       "\n",
       "    .dataframe thead th {\n",
       "        text-align: right;\n",
       "    }\n",
       "</style>\n",
       "<table border=\"1\" class=\"dataframe\">\n",
       "  <thead>\n",
       "    <tr style=\"text-align: right;\">\n",
       "      <th></th>\n",
       "      <th>Age</th>\n",
       "      <th>Annual Income</th>\n",
       "      <th>Credit Score</th>\n",
       "      <th>Customer Feedback</th>\n",
       "      <th>Education Level</th>\n",
       "      <th>Exercise Frequency</th>\n",
       "      <th>Gender</th>\n",
       "      <th>Health Score</th>\n",
       "      <th>Insurance Duration</th>\n",
       "      <th>Location</th>\n",
       "      <th>Marital Status</th>\n",
       "      <th>Number of Dependents</th>\n",
       "      <th>Occupation</th>\n",
       "      <th>Policy Start Date</th>\n",
       "      <th>Policy Type</th>\n",
       "      <th>Premium Amount</th>\n",
       "      <th>Previous Claims</th>\n",
       "      <th>Property Type</th>\n",
       "      <th>Smoking Status</th>\n",
       "      <th>Vehicle Age</th>\n",
       "    </tr>\n",
       "  </thead>\n",
       "  <tbody>\n",
       "  </tbody>\n",
       "</table>\n",
       "</div>"
      ]
     },
     "execution_count": 15,
     "metadata": {},
     "output_type": "execute_result"
    }
   ],
   "execution_count": 15
  },
  {
   "metadata": {},
   "cell_type": "markdown",
   "source": "중복값은 존재하지 않는다.",
   "id": "7534c035c1ed29e5"
  },
  {
   "metadata": {},
   "cell_type": "markdown",
   "source": [
    "두 데이터 프레임을 병합하는데 문제 없다고 판단한 근거\n",
    "1. 모든 열의 수, 열의 이름, 열의 의미 모두 동일하다.\n",
    "2. 모든 열의 통계값이 유사하고 단위도 동일하다.\n",
    "3. 중복값이 존재하지 않는다.\n",
    "3. 데이터 타입 차이가 존재하나 해당 열의 통계값 차이, 열의 의미를 생각했을 때 데이터 타입의 차이가 유의미하지 않다."
   ],
   "id": "25b964baf0e9cadb"
  },
  {
   "metadata": {},
   "cell_type": "markdown",
   "source": "데이터 프레임 병합",
   "id": "6972a2938bfb0c1d"
  },
  {
   "metadata": {
    "ExecuteTime": {
     "end_time": "2024-12-17T06:14:33.781027Z",
     "start_time": "2024-12-17T06:14:33.564309Z"
    }
   },
   "cell_type": "code",
   "source": [
    "common_columns = frame_comp.columns.intersection(frame_origin.columns)\n",
    "\n",
    "frame = pd.concat([frame_comp, frame_origin], ignore_index=True)\n"
   ],
   "id": "6a63af5f41241619",
   "outputs": [],
   "execution_count": 16
  },
  {
   "metadata": {},
   "cell_type": "markdown",
   "source": "병합된 데이트 프레임 확인",
   "id": "45cf6f34e545a97"
  },
  {
   "metadata": {},
   "cell_type": "markdown",
   "source": "병합된 데이터 프레임 열의 수, 열의 이름 동일 여부",
   "id": "a8f729464e80807a"
  },
  {
   "metadata": {
    "ExecuteTime": {
     "end_time": "2024-12-17T06:14:33.803674Z",
     "start_time": "2024-12-17T06:14:33.784426Z"
    }
   },
   "cell_type": "code",
   "source": [
    "print('frame_comp 열 수 :' + str(len(frame_comp.columns)))\n",
    "print('frame_origin 열 수 :' + str(len(frame_origin.columns)))\n",
    "print('frame 열 수 : ' + str(len(frame.columns)))\n",
    "\n",
    "print('\\n열 이름 동일 여부\\n' + str(set(frame.columns) == set(frame_origin.columns) and set(frame.columns) == set(frame_comp.columns)))"
   ],
   "id": "6ad7f05a2b59f0f9",
   "outputs": [
    {
     "name": "stdout",
     "output_type": "stream",
     "text": [
      "frame_comp 열 수 :20\n",
      "frame_origin 열 수 :20\n",
      "frame 열 수 : 20\n",
      "\n",
      "열 이름 동일 여부\n",
      "True\n"
     ]
    }
   ],
   "execution_count": 17
  },
  {
   "metadata": {},
   "cell_type": "markdown",
   "source": "병합된 데이터 프레임의 열의 수, 열의 이름과 병합에 사용한 두 데이터 프레임의 열의 수, 열의 이름이 동일하다.",
   "id": "59a0cf1d9a9a26f2"
  },
  {
   "metadata": {},
   "cell_type": "markdown",
   "source": "병합된 데이터 프레임 행의 수 확인",
   "id": "6a9a7a8e6f2eaf08"
  },
  {
   "metadata": {
    "ExecuteTime": {
     "end_time": "2024-12-17T06:14:35.851171Z",
     "start_time": "2024-12-17T06:14:33.811577Z"
    }
   },
   "cell_type": "code",
   "source": [
    "print(frame.info())\n",
    "print('\\n행 수 동일 여부 : ' + str((len(frame_origin) + len(frame_comp)) == len(frame)))"
   ],
   "id": "544a3fef0a58021c",
   "outputs": [
    {
     "name": "stdout",
     "output_type": "stream",
     "text": [
      "<class 'pandas.core.frame.DataFrame'>\n",
      "RangeIndex: 1478860 entries, 0 to 1478859\n",
      "Data columns (total 20 columns):\n",
      " #   Column                Non-Null Count    Dtype  \n",
      "---  ------                --------------    -----  \n",
      " 0   Age                   1455470 non-null  float64\n",
      " 1   Annual Income         1419956 non-null  float64\n",
      " 2   Credit Score          1313092 non-null  float64\n",
      " 3   Customer Feedback     1382687 non-null  object \n",
      " 4   Education Level       1478860 non-null  object \n",
      " 5   Exercise Frequency    1478860 non-null  object \n",
      " 6   Gender                1478860 non-null  object \n",
      " 7   Health Score          1394187 non-null  float64\n",
      " 8   Insurance Duration    1478859 non-null  float64\n",
      " 9   Location              1478860 non-null  object \n",
      " 10  Marital Status        1455312 non-null  object \n",
      " 11  Number of Dependents  1341302 non-null  float64\n",
      " 12  Occupation            1039497 non-null  object \n",
      " 13  Policy Start Date     1478860 non-null  object \n",
      " 14  Policy Type           1478860 non-null  object \n",
      " 15  Premium Amount        1477019 non-null  float64\n",
      " 16  Previous Claims       1033543 non-null  float64\n",
      " 17  Property Type         1478860 non-null  object \n",
      " 18  Smoking Status        1478860 non-null  object \n",
      " 19  Vehicle Age           1478854 non-null  float64\n",
      "dtypes: float64(9), object(11)\n",
      "memory usage: 225.7+ MB\n",
      "None\n",
      "\n",
      "행 수 동일 여부 : True\n"
     ]
    }
   ],
   "execution_count": 18
  },
  {
   "metadata": {},
   "cell_type": "markdown",
   "source": "병합된 데이터 프레임의 행의 수와 병합에 사용한 두 데이터 프레임의 행의 수를 더한 값과 동일하다.",
   "id": "9d76fe3588597250"
  },
  {
   "metadata": {},
   "cell_type": "markdown",
   "source": "병합된 데이터 프레임과 병합에 사용된 2 개의 데이터 프레임과의 통계값 차이 비교",
   "id": "2993afe2fef07448"
  },
  {
   "metadata": {
    "ExecuteTime": {
     "end_time": "2024-12-17T06:14:38.931711Z",
     "start_time": "2024-12-17T06:14:35.858685Z"
    }
   },
   "cell_type": "code",
   "source": "frame.describe() - frame_comp.describe()",
   "id": "8455e9b64dd8fa86",
   "outputs": [
    {
     "data": {
      "text/plain": [
       "            Age  Annual Income  Credit Score  Health Score  \\\n",
       "count 274175.00      264905.00     250974.00     268263.00   \n",
       "mean      -0.02        1743.18         -3.55          0.57   \n",
       "std        0.00         835.04          1.90          0.86   \n",
       "min        0.00          -1.00          0.00         -1.98   \n",
       "25%       -1.00        1067.00         -5.00          0.02   \n",
       "50%        0.00        1085.00         -4.00          0.27   \n",
       "75%        0.00        1679.00         -2.00          0.72   \n",
       "max        0.00           0.00          0.00         34.90   \n",
       "\n",
       "       Insurance Duration  Number of Dependents  Premium Amount  \\\n",
       "count           278860.00             250974.00       277019.00   \n",
       "mean                -0.00                 -0.00          -25.59   \n",
       "std                 -0.00                 -0.00           10.12   \n",
       "min                  0.00                  0.00          -20.00   \n",
       "25%                  0.00                  0.00          -46.00   \n",
       "50%                  0.00                  0.00          -35.00   \n",
       "75%                  0.00                  0.00          -25.00   \n",
       "max                  0.00                  0.00            0.00   \n",
       "\n",
       "       Previous Claims  Vehicle Age  \n",
       "count        197572.00    278860.00  \n",
       "mean             -0.00        -0.01  \n",
       "std               0.00        -0.00  \n",
       "min               0.00         0.00  \n",
       "25%               0.00         0.00  \n",
       "50%               0.00         0.00  \n",
       "75%               0.00         0.00  \n",
       "max               0.00         0.00  "
      ],
      "text/html": [
       "<div>\n",
       "<style scoped>\n",
       "    .dataframe tbody tr th:only-of-type {\n",
       "        vertical-align: middle;\n",
       "    }\n",
       "\n",
       "    .dataframe tbody tr th {\n",
       "        vertical-align: top;\n",
       "    }\n",
       "\n",
       "    .dataframe thead th {\n",
       "        text-align: right;\n",
       "    }\n",
       "</style>\n",
       "<table border=\"1\" class=\"dataframe\">\n",
       "  <thead>\n",
       "    <tr style=\"text-align: right;\">\n",
       "      <th></th>\n",
       "      <th>Age</th>\n",
       "      <th>Annual Income</th>\n",
       "      <th>Credit Score</th>\n",
       "      <th>Health Score</th>\n",
       "      <th>Insurance Duration</th>\n",
       "      <th>Number of Dependents</th>\n",
       "      <th>Premium Amount</th>\n",
       "      <th>Previous Claims</th>\n",
       "      <th>Vehicle Age</th>\n",
       "    </tr>\n",
       "  </thead>\n",
       "  <tbody>\n",
       "    <tr>\n",
       "      <th>count</th>\n",
       "      <td>274175.00</td>\n",
       "      <td>264905.00</td>\n",
       "      <td>250974.00</td>\n",
       "      <td>268263.00</td>\n",
       "      <td>278860.00</td>\n",
       "      <td>250974.00</td>\n",
       "      <td>277019.00</td>\n",
       "      <td>197572.00</td>\n",
       "      <td>278860.00</td>\n",
       "    </tr>\n",
       "    <tr>\n",
       "      <th>mean</th>\n",
       "      <td>-0.02</td>\n",
       "      <td>1743.18</td>\n",
       "      <td>-3.55</td>\n",
       "      <td>0.57</td>\n",
       "      <td>-0.00</td>\n",
       "      <td>-0.00</td>\n",
       "      <td>-25.59</td>\n",
       "      <td>-0.00</td>\n",
       "      <td>-0.01</td>\n",
       "    </tr>\n",
       "    <tr>\n",
       "      <th>std</th>\n",
       "      <td>0.00</td>\n",
       "      <td>835.04</td>\n",
       "      <td>1.90</td>\n",
       "      <td>0.86</td>\n",
       "      <td>-0.00</td>\n",
       "      <td>-0.00</td>\n",
       "      <td>10.12</td>\n",
       "      <td>0.00</td>\n",
       "      <td>-0.00</td>\n",
       "    </tr>\n",
       "    <tr>\n",
       "      <th>min</th>\n",
       "      <td>0.00</td>\n",
       "      <td>-1.00</td>\n",
       "      <td>0.00</td>\n",
       "      <td>-1.98</td>\n",
       "      <td>0.00</td>\n",
       "      <td>0.00</td>\n",
       "      <td>-20.00</td>\n",
       "      <td>0.00</td>\n",
       "      <td>0.00</td>\n",
       "    </tr>\n",
       "    <tr>\n",
       "      <th>25%</th>\n",
       "      <td>-1.00</td>\n",
       "      <td>1067.00</td>\n",
       "      <td>-5.00</td>\n",
       "      <td>0.02</td>\n",
       "      <td>0.00</td>\n",
       "      <td>0.00</td>\n",
       "      <td>-46.00</td>\n",
       "      <td>0.00</td>\n",
       "      <td>0.00</td>\n",
       "    </tr>\n",
       "    <tr>\n",
       "      <th>50%</th>\n",
       "      <td>0.00</td>\n",
       "      <td>1085.00</td>\n",
       "      <td>-4.00</td>\n",
       "      <td>0.27</td>\n",
       "      <td>0.00</td>\n",
       "      <td>0.00</td>\n",
       "      <td>-35.00</td>\n",
       "      <td>0.00</td>\n",
       "      <td>0.00</td>\n",
       "    </tr>\n",
       "    <tr>\n",
       "      <th>75%</th>\n",
       "      <td>0.00</td>\n",
       "      <td>1679.00</td>\n",
       "      <td>-2.00</td>\n",
       "      <td>0.72</td>\n",
       "      <td>0.00</td>\n",
       "      <td>0.00</td>\n",
       "      <td>-25.00</td>\n",
       "      <td>0.00</td>\n",
       "      <td>0.00</td>\n",
       "    </tr>\n",
       "    <tr>\n",
       "      <th>max</th>\n",
       "      <td>0.00</td>\n",
       "      <td>0.00</td>\n",
       "      <td>0.00</td>\n",
       "      <td>34.90</td>\n",
       "      <td>0.00</td>\n",
       "      <td>0.00</td>\n",
       "      <td>0.00</td>\n",
       "      <td>0.00</td>\n",
       "      <td>0.00</td>\n",
       "    </tr>\n",
       "  </tbody>\n",
       "</table>\n",
       "</div>"
      ]
     },
     "execution_count": 19,
     "metadata": {},
     "output_type": "execute_result"
    }
   ],
   "execution_count": 19
  },
  {
   "metadata": {
    "ExecuteTime": {
     "end_time": "2024-12-17T06:14:41.070562Z",
     "start_time": "2024-12-17T06:14:38.934990Z"
    }
   },
   "cell_type": "code",
   "source": "frame.describe() - frame_origin.describe()",
   "id": "ffd69dd6280fff26",
   "outputs": [
    {
     "data": {
      "text/plain": [
       "             Age  Annual Income  Credit Score  Health Score  \\\n",
       "count 1181295.00     1155051.00    1062118.00    1125924.00   \n",
       "mean        0.10       -7600.69         15.01         -2.40   \n",
       "std        -0.01       -2429.98         -6.91         -2.90   \n",
       "min         0.00           0.00          0.00          0.00   \n",
       "25%         0.00       -4520.00         26.00         -0.21   \n",
       "50%         0.00       -7195.00         16.00         -1.60   \n",
       "75%         0.00      -15851.00          7.00         -3.72   \n",
       "max         0.00           0.00          0.00          0.00   \n",
       "\n",
       "       Insurance Duration  Number of Dependents  Premium Amount  \\\n",
       "count          1199999.00            1090328.00      1200000.00   \n",
       "mean                 0.01                  0.01          110.84   \n",
       "std                  0.01                  0.00          -34.28   \n",
       "min                  0.00                  0.00            0.00   \n",
       "25%                  0.00                  0.00          182.00   \n",
       "50%                  0.00                  0.00          149.00   \n",
       "75%                  0.00                  0.00          117.00   \n",
       "max                  0.00                  0.00            0.00   \n",
       "\n",
       "       Previous Claims  Vehicle Age  \n",
       "count        835971.00   1199994.00  \n",
       "mean              0.00         0.04  \n",
       "std              -0.01         0.01  \n",
       "min               0.00         0.00  \n",
       "25%               0.00         0.00  \n",
       "50%               0.00         0.00  \n",
       "75%               0.00         0.00  \n",
       "max               0.00         0.00  "
      ],
      "text/html": [
       "<div>\n",
       "<style scoped>\n",
       "    .dataframe tbody tr th:only-of-type {\n",
       "        vertical-align: middle;\n",
       "    }\n",
       "\n",
       "    .dataframe tbody tr th {\n",
       "        vertical-align: top;\n",
       "    }\n",
       "\n",
       "    .dataframe thead th {\n",
       "        text-align: right;\n",
       "    }\n",
       "</style>\n",
       "<table border=\"1\" class=\"dataframe\">\n",
       "  <thead>\n",
       "    <tr style=\"text-align: right;\">\n",
       "      <th></th>\n",
       "      <th>Age</th>\n",
       "      <th>Annual Income</th>\n",
       "      <th>Credit Score</th>\n",
       "      <th>Health Score</th>\n",
       "      <th>Insurance Duration</th>\n",
       "      <th>Number of Dependents</th>\n",
       "      <th>Premium Amount</th>\n",
       "      <th>Previous Claims</th>\n",
       "      <th>Vehicle Age</th>\n",
       "    </tr>\n",
       "  </thead>\n",
       "  <tbody>\n",
       "    <tr>\n",
       "      <th>count</th>\n",
       "      <td>1181295.00</td>\n",
       "      <td>1155051.00</td>\n",
       "      <td>1062118.00</td>\n",
       "      <td>1125924.00</td>\n",
       "      <td>1199999.00</td>\n",
       "      <td>1090328.00</td>\n",
       "      <td>1200000.00</td>\n",
       "      <td>835971.00</td>\n",
       "      <td>1199994.00</td>\n",
       "    </tr>\n",
       "    <tr>\n",
       "      <th>mean</th>\n",
       "      <td>0.10</td>\n",
       "      <td>-7600.69</td>\n",
       "      <td>15.01</td>\n",
       "      <td>-2.40</td>\n",
       "      <td>0.01</td>\n",
       "      <td>0.01</td>\n",
       "      <td>110.84</td>\n",
       "      <td>0.00</td>\n",
       "      <td>0.04</td>\n",
       "    </tr>\n",
       "    <tr>\n",
       "      <th>std</th>\n",
       "      <td>-0.01</td>\n",
       "      <td>-2429.98</td>\n",
       "      <td>-6.91</td>\n",
       "      <td>-2.90</td>\n",
       "      <td>0.01</td>\n",
       "      <td>0.00</td>\n",
       "      <td>-34.28</td>\n",
       "      <td>-0.01</td>\n",
       "      <td>0.01</td>\n",
       "    </tr>\n",
       "    <tr>\n",
       "      <th>min</th>\n",
       "      <td>0.00</td>\n",
       "      <td>0.00</td>\n",
       "      <td>0.00</td>\n",
       "      <td>0.00</td>\n",
       "      <td>0.00</td>\n",
       "      <td>0.00</td>\n",
       "      <td>0.00</td>\n",
       "      <td>0.00</td>\n",
       "      <td>0.00</td>\n",
       "    </tr>\n",
       "    <tr>\n",
       "      <th>25%</th>\n",
       "      <td>0.00</td>\n",
       "      <td>-4520.00</td>\n",
       "      <td>26.00</td>\n",
       "      <td>-0.21</td>\n",
       "      <td>0.00</td>\n",
       "      <td>0.00</td>\n",
       "      <td>182.00</td>\n",
       "      <td>0.00</td>\n",
       "      <td>0.00</td>\n",
       "    </tr>\n",
       "    <tr>\n",
       "      <th>50%</th>\n",
       "      <td>0.00</td>\n",
       "      <td>-7195.00</td>\n",
       "      <td>16.00</td>\n",
       "      <td>-1.60</td>\n",
       "      <td>0.00</td>\n",
       "      <td>0.00</td>\n",
       "      <td>149.00</td>\n",
       "      <td>0.00</td>\n",
       "      <td>0.00</td>\n",
       "    </tr>\n",
       "    <tr>\n",
       "      <th>75%</th>\n",
       "      <td>0.00</td>\n",
       "      <td>-15851.00</td>\n",
       "      <td>7.00</td>\n",
       "      <td>-3.72</td>\n",
       "      <td>0.00</td>\n",
       "      <td>0.00</td>\n",
       "      <td>117.00</td>\n",
       "      <td>0.00</td>\n",
       "      <td>0.00</td>\n",
       "    </tr>\n",
       "    <tr>\n",
       "      <th>max</th>\n",
       "      <td>0.00</td>\n",
       "      <td>0.00</td>\n",
       "      <td>0.00</td>\n",
       "      <td>0.00</td>\n",
       "      <td>0.00</td>\n",
       "      <td>0.00</td>\n",
       "      <td>0.00</td>\n",
       "      <td>0.00</td>\n",
       "      <td>0.00</td>\n",
       "    </tr>\n",
       "  </tbody>\n",
       "</table>\n",
       "</div>"
      ]
     },
     "execution_count": 20,
     "metadata": {},
     "output_type": "execute_result"
    }
   ],
   "execution_count": 20
  },
  {
   "metadata": {
    "ExecuteTime": {
     "end_time": "2024-12-17T06:14:44.143615Z",
     "start_time": "2024-12-17T06:14:41.074523Z"
    }
   },
   "cell_type": "code",
   "source": "(frame.describe() * 2) - (frame_comp.describe() + frame_origin.describe())",
   "id": "b3c9f421a61a2ad5",
   "outputs": [
    {
     "data": {
      "text/plain": [
       "             Age  Annual Income  Credit Score  Health Score  \\\n",
       "count 1455470.00     1419956.00    1313092.00    1394187.00   \n",
       "mean        0.08       -5857.51         11.47         -1.83   \n",
       "std        -0.01       -1594.94         -5.01         -2.04   \n",
       "min         0.00          -1.00          0.00         -1.98   \n",
       "25%        -1.00       -3453.00         21.00         -0.19   \n",
       "50%         0.00       -6110.00         12.00         -1.33   \n",
       "75%         0.00      -14172.00          5.00         -3.01   \n",
       "max         0.00           0.00          0.00         34.90   \n",
       "\n",
       "       Insurance Duration  Number of Dependents  Premium Amount  \\\n",
       "count          1478859.00            1341302.00      1477019.00   \n",
       "mean                 0.01                  0.01           85.25   \n",
       "std                  0.01                  0.00          -24.16   \n",
       "min                  0.00                  0.00          -20.00   \n",
       "25%                  0.00                  0.00          136.00   \n",
       "50%                  0.00                  0.00          114.00   \n",
       "75%                  0.00                  0.00           92.00   \n",
       "max                  0.00                  0.00            0.00   \n",
       "\n",
       "       Previous Claims  Vehicle Age  \n",
       "count       1033543.00   1478854.00  \n",
       "mean              0.00         0.03  \n",
       "std              -0.01         0.01  \n",
       "min               0.00         0.00  \n",
       "25%               0.00         0.00  \n",
       "50%               0.00         0.00  \n",
       "75%               0.00         0.00  \n",
       "max               0.00         0.00  "
      ],
      "text/html": [
       "<div>\n",
       "<style scoped>\n",
       "    .dataframe tbody tr th:only-of-type {\n",
       "        vertical-align: middle;\n",
       "    }\n",
       "\n",
       "    .dataframe tbody tr th {\n",
       "        vertical-align: top;\n",
       "    }\n",
       "\n",
       "    .dataframe thead th {\n",
       "        text-align: right;\n",
       "    }\n",
       "</style>\n",
       "<table border=\"1\" class=\"dataframe\">\n",
       "  <thead>\n",
       "    <tr style=\"text-align: right;\">\n",
       "      <th></th>\n",
       "      <th>Age</th>\n",
       "      <th>Annual Income</th>\n",
       "      <th>Credit Score</th>\n",
       "      <th>Health Score</th>\n",
       "      <th>Insurance Duration</th>\n",
       "      <th>Number of Dependents</th>\n",
       "      <th>Premium Amount</th>\n",
       "      <th>Previous Claims</th>\n",
       "      <th>Vehicle Age</th>\n",
       "    </tr>\n",
       "  </thead>\n",
       "  <tbody>\n",
       "    <tr>\n",
       "      <th>count</th>\n",
       "      <td>1455470.00</td>\n",
       "      <td>1419956.00</td>\n",
       "      <td>1313092.00</td>\n",
       "      <td>1394187.00</td>\n",
       "      <td>1478859.00</td>\n",
       "      <td>1341302.00</td>\n",
       "      <td>1477019.00</td>\n",
       "      <td>1033543.00</td>\n",
       "      <td>1478854.00</td>\n",
       "    </tr>\n",
       "    <tr>\n",
       "      <th>mean</th>\n",
       "      <td>0.08</td>\n",
       "      <td>-5857.51</td>\n",
       "      <td>11.47</td>\n",
       "      <td>-1.83</td>\n",
       "      <td>0.01</td>\n",
       "      <td>0.01</td>\n",
       "      <td>85.25</td>\n",
       "      <td>0.00</td>\n",
       "      <td>0.03</td>\n",
       "    </tr>\n",
       "    <tr>\n",
       "      <th>std</th>\n",
       "      <td>-0.01</td>\n",
       "      <td>-1594.94</td>\n",
       "      <td>-5.01</td>\n",
       "      <td>-2.04</td>\n",
       "      <td>0.01</td>\n",
       "      <td>0.00</td>\n",
       "      <td>-24.16</td>\n",
       "      <td>-0.01</td>\n",
       "      <td>0.01</td>\n",
       "    </tr>\n",
       "    <tr>\n",
       "      <th>min</th>\n",
       "      <td>0.00</td>\n",
       "      <td>-1.00</td>\n",
       "      <td>0.00</td>\n",
       "      <td>-1.98</td>\n",
       "      <td>0.00</td>\n",
       "      <td>0.00</td>\n",
       "      <td>-20.00</td>\n",
       "      <td>0.00</td>\n",
       "      <td>0.00</td>\n",
       "    </tr>\n",
       "    <tr>\n",
       "      <th>25%</th>\n",
       "      <td>-1.00</td>\n",
       "      <td>-3453.00</td>\n",
       "      <td>21.00</td>\n",
       "      <td>-0.19</td>\n",
       "      <td>0.00</td>\n",
       "      <td>0.00</td>\n",
       "      <td>136.00</td>\n",
       "      <td>0.00</td>\n",
       "      <td>0.00</td>\n",
       "    </tr>\n",
       "    <tr>\n",
       "      <th>50%</th>\n",
       "      <td>0.00</td>\n",
       "      <td>-6110.00</td>\n",
       "      <td>12.00</td>\n",
       "      <td>-1.33</td>\n",
       "      <td>0.00</td>\n",
       "      <td>0.00</td>\n",
       "      <td>114.00</td>\n",
       "      <td>0.00</td>\n",
       "      <td>0.00</td>\n",
       "    </tr>\n",
       "    <tr>\n",
       "      <th>75%</th>\n",
       "      <td>0.00</td>\n",
       "      <td>-14172.00</td>\n",
       "      <td>5.00</td>\n",
       "      <td>-3.01</td>\n",
       "      <td>0.00</td>\n",
       "      <td>0.00</td>\n",
       "      <td>92.00</td>\n",
       "      <td>0.00</td>\n",
       "      <td>0.00</td>\n",
       "    </tr>\n",
       "    <tr>\n",
       "      <th>max</th>\n",
       "      <td>0.00</td>\n",
       "      <td>0.00</td>\n",
       "      <td>0.00</td>\n",
       "      <td>34.90</td>\n",
       "      <td>0.00</td>\n",
       "      <td>0.00</td>\n",
       "      <td>0.00</td>\n",
       "      <td>0.00</td>\n",
       "      <td>0.00</td>\n",
       "    </tr>\n",
       "  </tbody>\n",
       "</table>\n",
       "</div>"
      ]
     },
     "execution_count": 21,
     "metadata": {},
     "output_type": "execute_result"
    }
   ],
   "execution_count": 21
  },
  {
   "metadata": {},
   "cell_type": "markdown",
   "source": "병합된 데이터 프레임과 병합할 때 사용한 두 데이터 프레임과 통계값을 비교했을 때 통계값 차이가 유의미하지 않다.",
   "id": "fdf4495200d0a754"
  },
  {
   "metadata": {},
   "cell_type": "markdown",
   "source": "데이터 타입 설정",
   "id": "c99c954f45bed902"
  },
  {
   "metadata": {
    "ExecuteTime": {
     "end_time": "2024-12-17T06:14:46.021771Z",
     "start_time": "2024-12-17T06:14:44.147133Z"
    }
   },
   "cell_type": "code",
   "source": "frame.info()",
   "id": "87ceaa3fd5c3f8fe",
   "outputs": [
    {
     "name": "stdout",
     "output_type": "stream",
     "text": [
      "<class 'pandas.core.frame.DataFrame'>\n",
      "RangeIndex: 1478860 entries, 0 to 1478859\n",
      "Data columns (total 20 columns):\n",
      " #   Column                Non-Null Count    Dtype  \n",
      "---  ------                --------------    -----  \n",
      " 0   Age                   1455470 non-null  float64\n",
      " 1   Annual Income         1419956 non-null  float64\n",
      " 2   Credit Score          1313092 non-null  float64\n",
      " 3   Customer Feedback     1382687 non-null  object \n",
      " 4   Education Level       1478860 non-null  object \n",
      " 5   Exercise Frequency    1478860 non-null  object \n",
      " 6   Gender                1478860 non-null  object \n",
      " 7   Health Score          1394187 non-null  float64\n",
      " 8   Insurance Duration    1478859 non-null  float64\n",
      " 9   Location              1478860 non-null  object \n",
      " 10  Marital Status        1455312 non-null  object \n",
      " 11  Number of Dependents  1341302 non-null  float64\n",
      " 12  Occupation            1039497 non-null  object \n",
      " 13  Policy Start Date     1478860 non-null  object \n",
      " 14  Policy Type           1478860 non-null  object \n",
      " 15  Premium Amount        1477019 non-null  float64\n",
      " 16  Previous Claims       1033543 non-null  float64\n",
      " 17  Property Type         1478860 non-null  object \n",
      " 18  Smoking Status        1478860 non-null  object \n",
      " 19  Vehicle Age           1478854 non-null  float64\n",
      "dtypes: float64(9), object(11)\n",
      "memory usage: 225.7+ MB\n"
     ]
    }
   ],
   "execution_count": 22
  },
  {
   "metadata": {},
   "cell_type": "markdown",
   "source": "float64 열의 소수 부분이 0인지 아닌지 확인",
   "id": "b73449f769eef30a"
  },
  {
   "metadata": {
    "ExecuteTime": {
     "end_time": "2024-12-17T06:14:47.559815Z",
     "start_time": "2024-12-17T06:14:46.024793Z"
    }
   },
   "cell_type": "code",
   "source": [
    "check_frame = frame\n",
    "check_frame = check_frame.dropna()\n",
    "\n",
    "for column in check_frame.columns:\n",
    "    if frame[column].dtype == 'float64':\n",
    "        print(column)\n",
    "        print((np.modf(check_frame[column])[0] == 0).all())\n",
    "        print('\\n')"
   ],
   "id": "ee42dcc52e924fb9",
   "outputs": [
    {
     "name": "stdout",
     "output_type": "stream",
     "text": [
      "Age\n",
      "True\n",
      "\n",
      "\n",
      "Annual Income\n",
      "True\n",
      "\n",
      "\n",
      "Credit Score\n",
      "True\n",
      "\n",
      "\n",
      "Health Score\n",
      "False\n",
      "\n",
      "\n",
      "Insurance Duration\n",
      "True\n",
      "\n",
      "\n",
      "Number of Dependents\n",
      "True\n",
      "\n",
      "\n",
      "Premium Amount\n",
      "True\n",
      "\n",
      "\n",
      "Previous Claims\n",
      "True\n",
      "\n",
      "\n",
      "Vehicle Age\n",
      "True\n",
      "\n",
      "\n"
     ]
    }
   ],
   "execution_count": 23
  },
  {
   "metadata": {},
   "cell_type": "markdown",
   "source": "확인 결과 Health Score 열을 제외하고 다른 열은 모두 소수 자리가 0이다. 그래서 열의 의미, 값의 범위, 연속형 데이터, 이산형 데이터를 생각했을 때 Int32가 적합하다고 생각된다. 하지만 모델링 단계에서 정규화를 고려하고 이전의 고려 사항들을 모두 고려했을 때 모두 float64로 변환하는 것이 가장 적합하다고 판단했다.",
   "id": "cb70006084a0df07"
  },
  {
   "metadata": {},
   "cell_type": "markdown",
   "source": "숫자형 데이터를 모두 float64로 변환",
   "id": "863de2849aee42cc"
  },
  {
   "metadata": {
    "ExecuteTime": {
     "end_time": "2024-12-17T06:14:49.178793Z",
     "start_time": "2024-12-17T06:14:47.564120Z"
    }
   },
   "cell_type": "code",
   "source": [
    "for column in frame.columns:\n",
    "    if frame[column].dtype in ('float64', 'float32', 'Int64', 'Int32', 'int64', 'int32'):\n",
    "        frame[column] = frame[column].astype('float64')\n",
    "\n",
    "frame.info()"
   ],
   "id": "7d46f4a43b5ea7aa",
   "outputs": [
    {
     "name": "stdout",
     "output_type": "stream",
     "text": [
      "<class 'pandas.core.frame.DataFrame'>\n",
      "RangeIndex: 1478860 entries, 0 to 1478859\n",
      "Data columns (total 20 columns):\n",
      " #   Column                Non-Null Count    Dtype  \n",
      "---  ------                --------------    -----  \n",
      " 0   Age                   1455470 non-null  float64\n",
      " 1   Annual Income         1419956 non-null  float64\n",
      " 2   Credit Score          1313092 non-null  float64\n",
      " 3   Customer Feedback     1382687 non-null  object \n",
      " 4   Education Level       1478860 non-null  object \n",
      " 5   Exercise Frequency    1478860 non-null  object \n",
      " 6   Gender                1478860 non-null  object \n",
      " 7   Health Score          1394187 non-null  float64\n",
      " 8   Insurance Duration    1478859 non-null  float64\n",
      " 9   Location              1478860 non-null  object \n",
      " 10  Marital Status        1455312 non-null  object \n",
      " 11  Number of Dependents  1341302 non-null  float64\n",
      " 12  Occupation            1039497 non-null  object \n",
      " 13  Policy Start Date     1478860 non-null  object \n",
      " 14  Policy Type           1478860 non-null  object \n",
      " 15  Premium Amount        1477019 non-null  float64\n",
      " 16  Previous Claims       1033543 non-null  float64\n",
      " 17  Property Type         1478860 non-null  object \n",
      " 18  Smoking Status        1478860 non-null  object \n",
      " 19  Vehicle Age           1478854 non-null  float64\n",
      "dtypes: float64(9), object(11)\n",
      "memory usage: 225.7+ MB\n"
     ]
    }
   ],
   "execution_count": 24
  },
  {
   "metadata": {},
   "cell_type": "markdown",
   "source": "object 변수 분류 및 변환",
   "id": "5d7e3ed45341f50a"
  },
  {
   "metadata": {},
   "cell_type": "markdown",
   "source": "object 변수 분류",
   "id": "24ba3793fd0be4c7"
  },
  {
   "metadata": {
    "ExecuteTime": {
     "end_time": "2024-12-17T06:14:49.194292Z",
     "start_time": "2024-12-17T06:14:49.182314Z"
    }
   },
   "cell_type": "code",
   "source": [
    "for column in frame.columns:\n",
    "    if frame[column].dtype == 'object':\n",
    "        print(column)\n",
    "        print(frame[column].dtypes == 'object')\n",
    "        print('\\n')"
   ],
   "id": "64b02980e126c4b4",
   "outputs": [
    {
     "name": "stdout",
     "output_type": "stream",
     "text": [
      "Customer Feedback\n",
      "True\n",
      "\n",
      "\n",
      "Education Level\n",
      "True\n",
      "\n",
      "\n",
      "Exercise Frequency\n",
      "True\n",
      "\n",
      "\n",
      "Gender\n",
      "True\n",
      "\n",
      "\n",
      "Location\n",
      "True\n",
      "\n",
      "\n",
      "Marital Status\n",
      "True\n",
      "\n",
      "\n",
      "Occupation\n",
      "True\n",
      "\n",
      "\n",
      "Policy Start Date\n",
      "True\n",
      "\n",
      "\n",
      "Policy Type\n",
      "True\n",
      "\n",
      "\n",
      "Property Type\n",
      "True\n",
      "\n",
      "\n",
      "Smoking Status\n",
      "True\n",
      "\n",
      "\n"
     ]
    }
   ],
   "execution_count": 25
  },
  {
   "metadata": {
    "ExecuteTime": {
     "end_time": "2024-12-17T06:14:51.391866Z",
     "start_time": "2024-12-17T06:14:49.198301Z"
    }
   },
   "cell_type": "code",
   "source": [
    "for column in frame.columns:\n",
    "    if frame[column].dtype == 'object':\n",
    "        print(column)\n",
    "        print(frame[column].unique())\n",
    "        print('\\n')\n"
   ],
   "id": "dd8dd654f89824b7",
   "outputs": [
    {
     "name": "stdout",
     "output_type": "stream",
     "text": [
      "Customer Feedback\n",
      "['Poor' 'Average' 'Good' nan]\n",
      "\n",
      "\n",
      "Education Level\n",
      "[\"Bachelor's\" \"Master's\" 'High School' 'PhD']\n",
      "\n",
      "\n",
      "Exercise Frequency\n",
      "['Weekly' 'Monthly' 'Daily' 'Rarely']\n",
      "\n",
      "\n",
      "Gender\n",
      "['Female' 'Male']\n",
      "\n",
      "\n",
      "Location\n",
      "['Urban' 'Rural' 'Suburban']\n",
      "\n",
      "\n",
      "Marital Status\n",
      "['Married' 'Divorced' 'Single' nan]\n",
      "\n",
      "\n",
      "Occupation\n",
      "['Self-Employed' nan 'Employed' 'Unemployed']\n",
      "\n",
      "\n",
      "Policy Start Date\n",
      "['2023-12-23 15:21:39.134960' '2023-06-12 15:21:39.111551'\n",
      " '2023-09-30 15:21:39.221386' ... '2020-10-26 15:21:39.291118'\n",
      " '2022-11-13 15:21:39.291118' '2024-01-14 15:21:39.291118']\n",
      "\n",
      "\n",
      "Policy Type\n",
      "['Premium' 'Comprehensive' 'Basic']\n",
      "\n",
      "\n",
      "Property Type\n",
      "['House' 'Apartment' 'Condo']\n",
      "\n",
      "\n",
      "Smoking Status\n",
      "['No' 'Yes']\n",
      "\n",
      "\n"
     ]
    }
   ],
   "execution_count": 26
  },
  {
   "metadata": {},
   "cell_type": "markdown",
   "source": [
    "열의 의미, 열의 값을 고려했을 때 다음과 같이 범주형 변수를 분류하고 그 세부 분류를 했다.\n",
    "\n",
    "명목형 변수\n",
    "\n",
    "Gender, Location, Maritial Status, Occupation, Property Type, Smoking Status\n",
    "\n",
    "명목형 변수로 분류된 모든 열의 범주가 적어서 모두 모델링 단계에서 One-Hot Encoding이 적합하다고 판단했고 데이터 분석 단계에서는 CategoricalDtype(ordered=False) 함수가 적합하다고 판단했다.\n",
    "\n",
    "순서형 변수\n",
    "\n",
    "Customer Feedback, Education Level, Exercise Frequency, Policy Type\n",
    "\n",
    "순서형 변수는 모델링 단계에서는 Ordinal Encoding을 사용하고 데이터 분석 단계에서는 CategoricalDtype(ordered=True) 함수를 사용하는 것이 적합하다고 판단했다.\n",
    "\n",
    "예외\n",
    "Policy Start Date(날짜형)\n",
    "\n",
    "Policy Start Date는 날짜 데이터이므로 데이터 분석 단계에서는 datetime64으로 변환하여 분석 후 모델링 단계에서 오늘 날을 기준으로 경과일을 기준으로 float64으로 변환하는 것이 적합하다고 판단했다."
   ],
   "id": "6785be73b9e93727"
  },
  {
   "metadata": {},
   "cell_type": "markdown",
   "source": [
    "명목형 변수 변환\n",
    "\n",
    "명목형 변수 - ordered == False\n",
    "\n",
    "Gender, Location, Marital Status, Occupation, Property Type, Smoking Status\n",
    "\n"
   ],
   "id": "dccaed5c8d8c825d"
  },
  {
   "metadata": {
    "ExecuteTime": {
     "end_time": "2024-12-17T06:14:52.757222Z",
     "start_time": "2024-12-17T06:14:51.399727Z"
    }
   },
   "cell_type": "code",
   "source": [
    "columns = ['Gender', 'Location', 'Marital Status', 'Occupation', 'Property Type', 'Smoking Status']\n",
    "\n",
    "for column in columns:\n",
    "    frame[column] = frame[column].astype(\"category\")\n",
    "\n",
    "for column in columns:\n",
    "    print(f\"Column : {column}\")\n",
    "    print(\"Categories : \", frame[column].cat.categories)\n",
    "    print(\"Ordered : \", frame[column].cat.ordered, \"\\n\")"
   ],
   "id": "bddd7ba7e6ee44d2",
   "outputs": [
    {
     "name": "stdout",
     "output_type": "stream",
     "text": [
      "Column : Gender\n",
      "Categories :  Index(['Female', 'Male'], dtype='object')\n",
      "Ordered :  False \n",
      "\n",
      "Column : Location\n",
      "Categories :  Index(['Rural', 'Suburban', 'Urban'], dtype='object')\n",
      "Ordered :  False \n",
      "\n",
      "Column : Marital Status\n",
      "Categories :  Index(['Divorced', 'Married', 'Single'], dtype='object')\n",
      "Ordered :  False \n",
      "\n",
      "Column : Occupation\n",
      "Categories :  Index(['Employed', 'Self-Employed', 'Unemployed'], dtype='object')\n",
      "Ordered :  False \n",
      "\n",
      "Column : Property Type\n",
      "Categories :  Index(['Apartment', 'Condo', 'House'], dtype='object')\n",
      "Ordered :  False \n",
      "\n",
      "Column : Smoking Status\n",
      "Categories :  Index(['No', 'Yes'], dtype='object')\n",
      "Ordered :  False \n",
      "\n"
     ]
    }
   ],
   "execution_count": 27
  },
  {
   "metadata": {},
   "cell_type": "markdown",
   "source": [
    "순서형 변수 변환\n",
    "\n",
    "순서형 변수 - ordered == True\n",
    "\n",
    "Customer Feedback, Education Level, Exercise Frequency, Policy Type\n"
   ],
   "id": "60911a572c46bb51"
  },
  {
   "metadata": {
    "ExecuteTime": {
     "end_time": "2024-12-17T06:14:53.706399Z",
     "start_time": "2024-12-17T06:14:52.760906Z"
    }
   },
   "cell_type": "code",
   "source": [
    "columns = ['Customer Feedback', 'Education Level', 'Exercise Frequency', 'Policy Type']\n",
    "unique = [['Poor', 'Average', 'Good'], ['High School', \"Bachelor's\", \"Master's\", 'PhD'], ['Daily', 'Weekly', 'Monthly', 'Rarely'], ['Basic', 'Comprehensive', 'Premium']]\n",
    "\n",
    "for column in columns:\n",
    "    frame[column] = frame[column].astype(\"category\")\n",
    "\n",
    "columns = ['Customer Feedback', 'Education Level', 'Exercise Frequency', 'Policy Type']\n",
    "\n",
    "for set_cat, column in zip(unique, columns):\n",
    "    frame[column] = frame[column].cat.set_categories(set_cat, ordered=True)\n",
    "\n",
    "for column in columns:\n",
    "    print(f\"Column : {column}\")\n",
    "    print(\"Categories : \", frame[column].cat.categories)\n",
    "    print(\"Ordered : \", frame[column].cat.ordered, \"\\n\")\n"
   ],
   "id": "8ec4256ce1d5b10d",
   "outputs": [
    {
     "name": "stdout",
     "output_type": "stream",
     "text": [
      "Column : Customer Feedback\n",
      "Categories :  Index(['Poor', 'Average', 'Good'], dtype='object')\n",
      "Ordered :  True \n",
      "\n",
      "Column : Education Level\n",
      "Categories :  Index(['High School', 'Bachelor's', 'Master's', 'PhD'], dtype='object')\n",
      "Ordered :  True \n",
      "\n",
      "Column : Exercise Frequency\n",
      "Categories :  Index(['Daily', 'Weekly', 'Monthly', 'Rarely'], dtype='object')\n",
      "Ordered :  True \n",
      "\n",
      "Column : Policy Type\n",
      "Categories :  Index(['Basic', 'Comprehensive', 'Premium'], dtype='object')\n",
      "Ordered :  True \n",
      "\n"
     ]
    }
   ],
   "execution_count": 28
  },
  {
   "metadata": {},
   "cell_type": "markdown",
   "source": [
    "날짜형 데이터 타입 변환\n",
    "\n",
    "날짜형 변수 - datetime64[ns]\n",
    "\n",
    "Policy Start Date"
   ],
   "id": "2a2db3e51db6371"
  },
  {
   "metadata": {
    "ExecuteTime": {
     "end_time": "2024-12-17T06:14:57.283963Z",
     "start_time": "2024-12-17T06:14:53.710574Z"
    }
   },
   "cell_type": "code",
   "source": [
    "frame['Policy Start Date'] = frame['Policy Start Date'].astype(\"datetime64[ns]\")\n",
    "print(frame['Policy Start Date'].dtypes)"
   ],
   "id": "8aa001b8a9cacd67",
   "outputs": [
    {
     "name": "stdout",
     "output_type": "stream",
     "text": [
      "datetime64[ns]\n"
     ]
    }
   ],
   "execution_count": 29
  },
  {
   "metadata": {},
   "cell_type": "markdown",
   "source": "모든 열의 데이터 타입 확인",
   "id": "2f228a6915e2ebfe"
  },
  {
   "metadata": {
    "ExecuteTime": {
     "end_time": "2024-12-17T06:14:57.299081Z",
     "start_time": "2024-12-17T06:14:57.287102Z"
    }
   },
   "cell_type": "code",
   "source": "print(frame.dtypes)",
   "id": "b59fc3e769ee4ad5",
   "outputs": [
    {
     "name": "stdout",
     "output_type": "stream",
     "text": [
      "Age                            float64\n",
      "Annual Income                  float64\n",
      "Credit Score                   float64\n",
      "Customer Feedback             category\n",
      "Education Level               category\n",
      "Exercise Frequency            category\n",
      "Gender                        category\n",
      "Health Score                   float64\n",
      "Insurance Duration             float64\n",
      "Location                      category\n",
      "Marital Status                category\n",
      "Number of Dependents           float64\n",
      "Occupation                    category\n",
      "Policy Start Date       datetime64[ns]\n",
      "Policy Type                   category\n",
      "Premium Amount                 float64\n",
      "Previous Claims                float64\n",
      "Property Type                 category\n",
      "Smoking Status                category\n",
      "Vehicle Age                    float64\n",
      "dtype: object\n"
     ]
    }
   ],
   "execution_count": 30
  },
  {
   "metadata": {},
   "cell_type": "markdown",
   "source": "모든 열을 분석을 위해 의도한 타입으로 변환 완료",
   "id": "876f20bb77d4b7f8"
  },
  {
   "metadata": {
    "ExecuteTime": {
     "end_time": "2024-12-17T06:14:57.309316Z",
     "start_time": "2024-12-17T06:14:57.303247Z"
    }
   },
   "cell_type": "code",
   "source": "",
   "id": "92a6ab6e1e867ac4",
   "outputs": [],
   "execution_count": 30
  },
  {
   "metadata": {},
   "cell_type": "markdown",
   "source": "",
   "id": "232edede943db4d9"
  }
 ],
 "metadata": {
  "kernelspec": {
   "display_name": "Python 3",
   "language": "python",
   "name": "python3"
  },
  "language_info": {
   "codemirror_mode": {
    "name": "ipython",
    "version": 2
   },
   "file_extension": ".py",
   "mimetype": "text/x-python",
   "name": "python",
   "nbconvert_exporter": "python",
   "pygments_lexer": "ipython2",
   "version": "2.7.6"
  }
 },
 "nbformat": 4,
 "nbformat_minor": 5
}
